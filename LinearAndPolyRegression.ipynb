{
 "cells": [
  {
   "cell_type": "markdown",
   "metadata": {
    "collapsed": true
   },
   "source": [
    "# Linear and Polynomial Regressions\n",
    "By Sai Prajwal Kotamraju\n",
    "## Linear Regression\n",
    "First step is to import the required libraries- NumPy (For mathematical manipulations) and MatPlotLib for plotting."
   ]
  },
  {
   "cell_type": "code",
   "execution_count": 1,
   "metadata": {
    "collapsed": true
   },
   "outputs": [],
   "source": [
    "import numpy as np\n",
    "import matplotlib.pyplot as plt"
   ]
  },
  {
   "cell_type": "markdown",
   "metadata": {},
   "source": [
    "If the relation between independent and dependent variables is linear, i.e. if the dependent variable can be expressed closely as sum of weighted inputs (independent variables), Linear Regression is preferred. \n",
    "Let us look into a simple example."
   ]
  },
  {
   "cell_type": "code",
   "execution_count": 2,
   "metadata": {
    "collapsed": true
   },
   "outputs": [],
   "source": [
    "X = 2* np.random.rand(100,1) # A vector of 100 random values between 0 and 2\n",
    "X = np.sort(X, axis = 0) # Sorting the vector in ascending order\n",
    "y = 3* X + 5 + np.random.randn(100,1) # Closely linear relationship betweehn DV and IV with some Gaussian noise"
   ]
  },
  {
   "cell_type": "code",
   "execution_count": 3,
   "metadata": {},
   "outputs": [
    {
     "data": {
      "image/png": "[encoded data removed]",
      "text/plain": [
       "<matplotlib.figure.Figure at 0x7f3669cc10d0>"
      ]
     },
     "metadata": {},
     "output_type": "display_data"
    }
   ],
   "source": [
    "plt.plot(X,y,\"g.\") \n",
    "plt.axis([0, 2, 0, 15])\n",
    "plt.show()"
   ]
  },
  {
   "cell_type": "markdown",
   "metadata": {},
   "source": [
    "As we can see from the plot above, the values of y are increasing almost linearly with the X values. So, we can use Linear Regression to predict the dependent variable value for a new independent variable value."
   ]
  },
  {
   "cell_type": "markdown",
   "metadata": {},
   "source": [
    "Now, let us use Scikit-Learn to find the model parameters (In this case, slope and intercept values).\n",
    "\n",
    "Note: For a model with N independent features, we will have N+1 model parameters --> N weights for N individual features plus one parameter for the intercept."
   ]
  },
  {
   "cell_type": "code",
   "execution_count": 4,
   "metadata": {},
   "outputs": [
    {
     "data": {
      "text/plain": [
       "LinearRegression(copy_X=True, fit_intercept=True, n_jobs=1, normalize=False)"
      ]
     },
     "execution_count": 4,
     "metadata": {},
     "output_type": "execute_result"
    }
   ],
   "source": [
    "from sklearn.linear_model import LinearRegression\n",
    "lin_reg = LinearRegression()\n",
    "lin_reg.fit(X,y)"
   ]
  },
  {
   "cell_type": "markdown",
   "metadata": {},
   "source": [
    "Let us now see the values of intercept and the slope"
   ]
  },
  {
   "cell_type": "code",
   "execution_count": 5,
   "metadata": {},
   "outputs": [
    {
     "data": {
      "text/plain": [
       "(array([ 4.93460286]), array([[ 2.97457027]]))"
      ]
     },
     "execution_count": 5,
     "metadata": {},
     "output_type": "execute_result"
    }
   ],
   "source": [
    "lin_reg.intercept_ , lin_reg.coef_"
   ]
  },
  {
   "cell_type": "markdown",
   "metadata": {},
   "source": [
    "As we can see, the slope obtained is very close to the defined slope = 3. And the intercept value by our model is also close to our defined intercept 5. (Since y = 3*X+5+noise). \n",
    "\n",
    "Now, let us see how our model predicts the values."
   ]
  },
  {
   "cell_type": "code",
   "execution_count": 6,
   "metadata": {},
   "outputs": [
    {
     "data": {
      "image/png": "[encoded data removed]",
      "text/plain": [
       "<matplotlib.figure.Figure at 0x7f365bafa2d0>"
      ]
     },
     "metadata": {},
     "output_type": "display_data"
    }
   ],
   "source": [
    "y_pred = lin_reg.predict(X)\n",
    "plt.plot(X,y,'g.')\n",
    "plt.plot(X,y_pred,'r-')\n",
    "plt.axis([0, 2, 0, 15])\n",
    "plt.show()"
   ]
  },
  {
   "cell_type": "markdown",
   "metadata": {},
   "source": [
    "The red line in the above plot corresponds to the predicted values of our linear regression model with respect to the independent variable (feature) X. "
   ]
  },
  {
   "cell_type": "markdown",
   "metadata": {},
   "source": [
    "To predict the value for a new instance of feature X, all we need to do is this. (See below)."
   ]
  },
  {
   "cell_type": "code",
   "execution_count": 7,
   "metadata": {},
   "outputs": [
    {
     "data": {
      "text/plain": [
       "array([[  4.93460286],\n",
       "       [  7.90917313],\n",
       "       [ 10.8837434 ],\n",
       "       [ 11.62738597],\n",
       "       [ 12.66848556],\n",
       "       [ 13.85831367]])"
      ]
     },
     "execution_count": 7,
     "metadata": {},
     "output_type": "execute_result"
    }
   ],
   "source": [
    "X_new = np.array([[0],[1],[2],[2.25],[2.6],[3]]) #Feature instances for which we want the predictions\n",
    "y_pred_new = lin_reg.predict(X_new)\n",
    "y_pred_new"
   ]
  },
  {
   "cell_type": "markdown",
   "metadata": {},
   "source": [
    "This concludes the basics of a Linear Regression Model."
   ]
  },
  {
   "cell_type": "markdown",
   "metadata": {
    "collapsed": true
   },
   "source": [
    "### Finding out the model parameters using Gradient Descent algorithms\n",
    "\n",
    "#### Batch Gradient Descent: Involves calculations over the complete training set X at each step"
   ]
  },
  {
   "cell_type": "code",
   "execution_count": 8,
   "metadata": {},
   "outputs": [
    {
     "data": {
      "text/plain": [
       "array([[ 4.93460286],\n",
       "       [ 2.97457027]])"
      ]
     },
     "execution_count": 8,
     "metadata": {},
     "output_type": "execute_result"
    }
   ],
   "source": [
    "X_app = np.c_[np.ones((100,1)),X] # Adding a column of ones to the X matrix on to the left.\n",
    "\n",
    "lr = 0.1 # Learning Rate \n",
    "N = 1000 # Number of steps or iterations\n",
    "m = 100 # Number of instances\n",
    "\n",
    "params = np.random.randn(2,1) # Random initialization of parameters (slope and intercept)\n",
    "\n",
    "for i in range(N):\n",
    "    gradient = (2.00/m)*(X_app.T).dot(X_app.dot(params) - y) # Formula for calculating gradient vector\n",
    "    # The above formula uses the complete training set. \n",
    "    # Hence, as size of x increases, computation time increases.\n",
    "    params = params - lr*gradient #Updation of parameters based on gradient\n",
    "    \n",
    "params"
   ]
  },
  {
   "cell_type": "markdown",
   "metadata": {},
   "source": [
    "We can see that the model parameters we ended up using the Gradient Descent are same as that of the ones from Normal Equation (In line 5)."
   ]
  },
  {
   "cell_type": "markdown",
   "metadata": {},
   "source": [
    "#### Stochastic Gradient Descent: Picks random instance in training set at every step and computes gradients based on that single instance. \n",
    "This helps in reduced computational time when compared to batch gradient descent. But because of the stochastic nature of this algorithm, the final parameter values are good, but not optimal."
   ]
  },
  {
   "cell_type": "code",
   "execution_count": 9,
   "metadata": {},
   "outputs": [
    {
     "data": {
      "text/plain": [
       "array([[ 4.71219324],\n",
       "       [ 3.15264685]])"
      ]
     },
     "execution_count": 9,
     "metadata": {},
     "output_type": "execute_result"
    }
   ],
   "source": [
    "init_val = 10.00\n",
    "N_of_epochs = 50\n",
    "\n",
    "def lr_control(t):\n",
    "    return 1/(t+init_val)\n",
    "\n",
    "params_sgd = np.random.randn(2,1) # Random initialization of parameters (slope and intercept)\n",
    "\n",
    "for i in range(N_of_epochs):\n",
    "    for j in range(m):\n",
    "        rand_index = np.random.randint(m)\n",
    "        Xi = X_app[rand_index:rand_index+1]\n",
    "        yi = y[rand_index:rand_index+1]\n",
    "        gradient_sgd = 2.0 * Xi.T.dot(Xi.dot(params_sgd)-yi)\n",
    "        variable_lr = lr_control(i*m+j)\n",
    "        params_sgd = params_sgd - variable_lr*gradient_sgd #Updation of parameters\n",
    "        \n",
    "params_sgd"
   ]
  },
  {
   "cell_type": "markdown",
   "metadata": {},
   "source": [
    "Now, let us plot the prediction curves of both batch gradient descent as well as stochastic gradient descent algorithms in a single plot and see how they differ."
   ]
  },
  {
   "cell_type": "code",
   "execution_count": 10,
   "metadata": {
    "scrolled": true
   },
   "outputs": [
    {
     "data": {
      "image/png": "[encoded data removed]",
      "text/plain": [
       "<matplotlib.figure.Figure at 0x7f365bae2a10>"
      ]
     },
     "metadata": {},
     "output_type": "display_data"
    }
   ],
   "source": [
    "y_pred_sgd = X_app.dot(params_sgd)\n",
    "plt.plot(X,y,'g.')\n",
    "plt.plot(X,y_pred,'r-') # Batch Gradient Descent- red color\n",
    "plt.plot(X,y_pred_sgd,'b-') # Stochastic Gradient Descent- blue color\n",
    "plt.axis([0, 2, 0, 15])\n",
    "plt.show()"
   ]
  },
  {
   "cell_type": "markdown",
   "metadata": {},
   "source": [
    "We see that SGD algorithm does good in predicting the output. Although the parameters aren't optimal, it just took 50 epochs over the entire training set to reach a good solution when compared to batch gradient descent which took 1000 iterations over the whole training set. One more advantage of Stochastic Gradient Descent algorithm is that it may reach the global minima if the learning rate is high enough to escape the local minima. So, if the Cost Function isn't perfectly convex or if the size of dataset is high, Stochastic Gradient Descent is preferable over the batch gradient descent."
   ]
  },
  {
   "cell_type": "markdown",
   "metadata": {},
   "source": [
    "Stochastic Gradient Descent algorithm can also be implemented using Scikit-Learn as follows:"
   ]
  },
  {
   "cell_type": "code",
   "execution_count": 11,
   "metadata": {},
   "outputs": [
    {
     "data": {
      "text/plain": [
       "(array([ 4.95410929]), array([ 3.00903326]))"
      ]
     },
     "execution_count": 11,
     "metadata": {},
     "output_type": "execute_result"
    }
   ],
   "source": [
    "from sklearn.linear_model import SGDRegressor\n",
    "sgd_reg = SGDRegressor(n_iter= 50, penalty= None, eta0 = 0.1) # eta0 is the learning rate lr\n",
    "# When penalty is None, there is no regularization (discussed in further topics)\n",
    "sgd_reg.fit(X,y.ravel())\n",
    "sgd_reg.intercept_, sgd_reg.coef_"
   ]
  },
  {
   "cell_type": "markdown",
   "metadata": {},
   "source": [
    "#### Mini-batch Gradient Descent: Computes the gradient on small random sets of instances called mini-batches. \n",
    "It is basically a compromise between batch gradient descent and stochastic gradient descent algorithms."
   ]
  },
  {
   "cell_type": "markdown",
   "metadata": {},
   "source": [
    "## Polynomial Regression\n",
    "\n",
    "This is when our data gets more complicated than just a straight line. Trick here is to use the same linear model as above with extended set of features (adding powers of features as new fatures)."
   ]
  },
  {
   "cell_type": "code",
   "execution_count": 12,
   "metadata": {},
   "outputs": [
    {
     "data": {
      "image/png": "[encoded data removed]",
      "text/plain": [
       "<matplotlib.figure.Figure at 0x7f365adf9a10>"
      ]
     },
     "metadata": {},
     "output_type": "display_data"
    }
   ],
   "source": [
    "m = 100 # Number of samples\n",
    "X_pol = 6* np.random.rand(m,1) - 3 # To have random x_pol values between -3 to +3\n",
    "X_pol = np.sort(X_pol, axis = 0) # Sorting the column values in ascending order\n",
    "y_pol = 3* X_pol**2 + 5* X_pol + 2 + np.random.randn(m,1) # Quadratic function in x_pol with some noise\n",
    "plt.plot(X_pol,y_pol,\"g.\") \n",
    "plt.show()"
   ]
  },
  {
   "cell_type": "markdown",
   "metadata": {},
   "source": [
    "It is clear from the above plot that a straight line will never serve as the best approximate for this data plot. We can use Scikit-Learn's PolynomialFeatures class to add the powers of each feature (In this case just one feature --> X_poly) as new features to our training data. "
   ]
  },
  {
   "cell_type": "code",
   "execution_count": 13,
   "metadata": {},
   "outputs": [],
   "source": [
    "from sklearn.preprocessing import PolynomialFeatures\n",
    "ply_fea = PolynomialFeatures(degree=2, include_bias = False) # Polynomial Features with degree 2 (quadratic)\n",
    "X_pol_updated = ply_fea.fit_transform(X_pol)"
   ]
  },
  {
   "cell_type": "code",
   "execution_count": 14,
   "metadata": {
    "scrolled": true
   },
   "outputs": [
    {
     "data": {
      "image/png": "[encoded data removed]",
      "text/plain": [
       "<matplotlib.figure.Figure at 0x7f3666fce610>"
      ]
     },
     "metadata": {},
     "output_type": "display_data"
    }
   ],
   "source": [
    "lin_reg = LinearRegression()\n",
    "lin_reg.fit(X_pol_updated, y_pol)\n",
    "y = lin_reg.predict(X_pol_updated)\n",
    "plt.plot(X_pol,y_pol,\"g.\")\n",
    "plt.plot(X_pol, y, \"b-\")\n",
    "plt.show()"
   ]
  },
  {
   "cell_type": "markdown",
   "metadata": {},
   "source": [
    "We see that the approximations/predictions by our model are pretty close to the original data points. So, this finishes the basic introduction to polynomial regression by using a simple linear model (with extended features). "
   ]
  }
 ],
 "metadata": {
  "kernelspec": {
   "display_name": "Python 2",
   "language": "python",
   "name": "python2"
  },
  "language_info": {
   "codemirror_mode": {
    "name": "ipython",
    "version": 2
   },
   "file_extension": ".py",
   "mimetype": "text/x-python",
   "name": "python",
   "nbconvert_exporter": "python",
   "pygments_lexer": "ipython2",
   "version": "2.7.13"
  }
 },
 "nbformat": 4,
 "nbformat_minor": 2
}
