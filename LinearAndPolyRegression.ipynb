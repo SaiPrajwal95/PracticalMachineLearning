{
 "cells": [
  {
   "cell_type": "markdown",
   "metadata": {
    "collapsed": true
   },
   "source": [
    "# Linear and Polynomial Regressions\n",
    "By Sai Prajwal Kotamraju\n",
    "\n",
    "\n",
    "\n",
    "First step is to import the required libraries- NumPy (For mathematical manipulations) and MatPlotLib for plotting."
   ]
  },
  {
   "cell_type": "code",
   "execution_count": 1,
   "metadata": {
    "collapsed": true
   },
   "outputs": [],
   "source": [
    "import numpy as np\n",
    "import matplotlib.pyplot as plt"
   ]
  },
  {
   "cell_type": "markdown",
   "metadata": {},
   "source": [
    "If the relation between independent and dependent variables is linear, i.e. if the dependent variable can be expressed closely as sum of weighted inputs (independent variables), Linear Regression is preferred. \n",
    "Let us look into a simple example."
   ]
  },
  {
   "cell_type": "code",
   "execution_count": 2,
   "metadata": {
    "collapsed": true
   },
   "outputs": [],
   "source": [
    "X = 2* np.random.rand(100,1) # A vector of 100 random values between 0 and 2\n",
    "y = 3* X + 5 + np.random.randn(100,1) # Closely linear relationship betweehn DV and IV with some Gaussian noise"
   ]
  },
  {
   "cell_type": "code",
   "execution_count": 3,
   "metadata": {},
   "outputs": [
    {
     "data": {
      "image/png": "[encoded data removed]",
      "text/plain": [
       "<matplotlib.figure.Figure at 0x7f21ec18f0d0>"
      ]
     },
     "metadata": {},
     "output_type": "display_data"
    }
   ],
   "source": [
    "plt.plot(X,y,\"r.\") \n",
    "plt.axis([0, 2, 0, 15])\n",
    "plt.show()"
   ]
  },
  {
   "cell_type": "markdown",
   "metadata": {},
   "source": [
    "As we can see from the plot above, the values of y are increasing almost linearly with the X values. So, we can use Linear Regression to predict the dependent variable value for a new independent variable value."
   ]
  },
  {
   "cell_type": "markdown",
   "metadata": {},
   "source": [
    "Now, let us use Scikit-Learn to find the model parameters (In this case, slope and intercept values).\n",
    "\n",
    "Note: For a model with N independent features, we will have N+1 model parameters --> N weights for N individual features plus one parameter for the intercept."
   ]
  },
  {
   "cell_type": "code",
   "execution_count": 4,
   "metadata": {},
   "outputs": [
    {
     "data": {
      "text/plain": [
       "LinearRegression(copy_X=True, fit_intercept=True, n_jobs=1, normalize=False)"
      ]
     },
     "execution_count": 4,
     "metadata": {},
     "output_type": "execute_result"
    }
   ],
   "source": [
    "from sklearn.linear_model import LinearRegression\n",
    "lin_reg = LinearRegression()\n",
    "lin_reg.fit(X,y)"
   ]
  },
  {
   "cell_type": "markdown",
   "metadata": {},
   "source": [
    "Let us now see the values of intercept and the slope"
   ]
  },
  {
   "cell_type": "code",
   "execution_count": 5,
   "metadata": {},
   "outputs": [
    {
     "data": {
      "text/plain": [
       "(array([ 5.08388075]), array([[ 3.00071297]]))"
      ]
     },
     "execution_count": 5,
     "metadata": {},
     "output_type": "execute_result"
    }
   ],
   "source": [
    "lin_reg.intercept_ , lin_reg.coef_"
   ]
  },
  {
   "cell_type": "markdown",
   "metadata": {},
   "source": [
    "As we can see, the slope obtained is very close to the defined slope = 3. And the intercept value by our model is also close to our defined intercept 5. (Since y = 3*X+5+noise). \n",
    "\n",
    "Now, let us see how our model predicts the values."
   ]
  },
  {
   "cell_type": "code",
   "execution_count": 6,
   "metadata": {},
   "outputs": [
    {
     "data": {
      "image/png": "[encoded data removed]",
      "text/plain": [
       "<matplotlib.figure.Figure at 0x7f21ddfc32d0>"
      ]
     },
     "metadata": {},
     "output_type": "display_data"
    }
   ],
   "source": [
    "y_pred = lin_reg.predict(X)\n",
    "plt.plot(X,y,'r.')\n",
    "plt.plot(X,y_pred,'b-')\n",
    "plt.axis([0, 2, 0, 15])\n",
    "plt.show()"
   ]
  },
  {
   "cell_type": "markdown",
   "metadata": {},
   "source": [
    "The blue line in the above plot corresponds to the predicted values of our linear regression model with respect to the independent variable (feature) X. "
   ]
  },
  {
   "cell_type": "markdown",
   "metadata": {},
   "source": [
    "To predict the value for a new instance of feature X, all we need to do is this. (See below)."
   ]
  },
  {
   "cell_type": "code",
   "execution_count": 7,
   "metadata": {},
   "outputs": [
    {
     "data": {
      "text/plain": [
       "array([[  5.08388075],\n",
       "       [  8.08459373],\n",
       "       [ 11.0853067 ],\n",
       "       [ 11.83548494],\n",
       "       [ 12.88573448],\n",
       "       [ 14.08601967]])"
      ]
     },
     "execution_count": 7,
     "metadata": {},
     "output_type": "execute_result"
    }
   ],
   "source": [
    "X_new = np.array([[0],[1],[2],[2.25],[2.6],[3]]) #Feature instances for which we want the predictions\n",
    "y_pred_new = lin_reg.predict(X_new)\n",
    "y_pred_new"
   ]
  },
  {
   "cell_type": "markdown",
   "metadata": {},
   "source": [
    "This concludes the basics of a Linear Regression Model."
   ]
  },
  {
   "cell_type": "markdown",
   "metadata": {
    "collapsed": true
   },
   "source": [
    "# Finding out the model parameters using Gradient Descent algorithm\n",
    "\n",
    "Batch Gradient Descent: Involves calculations over the complete training set X at each step"
   ]
  },
  {
   "cell_type": "code",
   "execution_count": 8,
   "metadata": {},
   "outputs": [
    {
     "data": {
      "text/plain": [
       "array([[ 5.08388075],\n",
       "       [ 3.00071297]])"
      ]
     },
     "execution_count": 8,
     "metadata": {},
     "output_type": "execute_result"
    }
   ],
   "source": [
    "X_app = np.c_[np.ones((100,1)),X] # Adding a column of ones to the X matrix on to the left.\n",
    "\n",
    "lr = 0.1 # Learning Rate \n",
    "N = 1000 # Number of steps or iterations\n",
    "m = 100 # Number of instances\n",
    "\n",
    "params = np.random.randn(2,1) # Random initialization of parameters (slope and intercept)\n",
    "\n",
    "for i in range(N):\n",
    "    gradient = (2.00/m)*(X_app.T).dot(X_app.dot(params) - y) # Formula for calculating gradient vector\n",
    "    params = params - lr*gradient\n",
    "    \n",
    "params"
   ]
  },
  {
   "cell_type": "markdown",
   "metadata": {},
   "source": [
    "We can see that the model parameters we ended up using the Gradient Descent are same as that of the ones from Normal Equation (In line 5)."
   ]
  }
 ],
 "metadata": {
  "kernelspec": {
   "display_name": "Python 2",
   "language": "python",
   "name": "python2"
  },
  "language_info": {
   "codemirror_mode": {
    "name": "ipython",
    "version": 2
   },
   "file_extension": ".py",
   "mimetype": "text/x-python",
   "name": "python",
   "nbconvert_exporter": "python",
   "pygments_lexer": "ipython2",
   "version": "2.7.13"
  }
 },
 "nbformat": 4,
 "nbformat_minor": 2
}
